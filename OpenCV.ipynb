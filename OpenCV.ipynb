{
 "cells": [
  {
   "cell_type": "code",
   "execution_count": 1,
   "id": "f141327a-6d63-4e33-a39e-322abc69e2a3",
   "metadata": {},
   "outputs": [],
   "source": [
    "import cv2\n",
    "import numpy as np\n",
    "import tensorflow as tf\n",
    "from tensorflow.keras.preprocessing.image import ImageDataGenerator\n",
    "from tensorflow.keras.models import Model, load_model"
   ]
  },
  {
   "cell_type": "code",
   "execution_count": 2,
   "id": "64e6429e-53f6-4f36-8e10-53e3c3f09754",
   "metadata": {},
   "outputs": [],
   "source": [
    "model = load_model('model-026.model')"
   ]
  },
  {
   "cell_type": "code",
   "execution_count": 3,
   "id": "3f21b769-f35d-4873-b31e-f0d01b0a2e53",
   "metadata": {},
   "outputs": [],
   "source": [
    "# label dictionary for each image class and color dictionary for bounding boxes\n",
    "labels_dict = {0:'correctly_worn', 1:'incorrectly_worn', 2:'no_mask'}\n",
    "color_dict = {0:(0,255,0), 1:(0,255,255), 2:(0,0,255)}"
   ]
  },
  {
   "cell_type": "code",
   "execution_count": 4,
   "id": "9a82c7a0-9140-49b8-b2ee-5dca6c071ecd",
   "metadata": {},
   "outputs": [],
   "source": [
    "# import face detection program\n",
    "\n",
    "classifier = cv2.CascadeClassifier('haarcascade_frontalface_default.xml')"
   ]
  },
  {
   "cell_type": "code",
   "execution_count": 5,
   "id": "e20c638d-fa92-4261-ad87-7d6c5429170c",
   "metadata": {
    "scrolled": true,
    "tags": []
   },
   "outputs": [],
   "source": [
    "size = 4\n",
    "webcam = cv2.VideoCapture(0)\n",
    "\n",
    "while True:\n",
    "    (rval, im) = webcam.read()\n",
    "    im=cv2.flip(im,1,1)\n",
    "    \n",
    "    mini = cv2.resize(im, (im.shape[1] // size, im.shape[0] // size))\n",
    "    \n",
    "    faces = classifier.detectMultiScale(mini)\n",
    "    \n",
    "    for f in faces:\n",
    "        (x, y, w, h) = [v * size for v in f]\n",
    "        face_img = im[y:y+h, x:x+w]\n",
    "        resized = cv2.resize(face_img, (224,224))\n",
    "        normalized = resized/255.0\n",
    "        reshaped=np.reshape(normalized,(1,224,224,3))\n",
    "        reshaped= np.vstack([reshaped])\n",
    "        result = model.predict(reshaped)\n",
    "        #print(result)\n",
    "        \n",
    "        label = np.argmax(result,axis=1)[0]\n",
    "        \n",
    "        cv2.rectangle(im,(x,y),(x+w,y+h),color_dict[label],2)\n",
    "        cv2.rectangle(im,(x,y-40),(x+w,y),color_dict[label],-1)\n",
    "        cv2.putText(im,labels_dict[label], (x, y-10),cv2.FONT_HERSHEY_SIMPLEX,0.8,(255,255,255),2)\n",
    "        \n",
    "    cv2.imshow('LIVE', im)\n",
    "    key = cv2.waitKey(10)\n",
    "    if key == 27: # ESC key\n",
    "        break\n",
    "        \n",
    "webcam.release()\n",
    "\n",
    "cv2.destroyAllWindows()"
   ]
  },
  {
   "cell_type": "code",
   "execution_count": null,
   "id": "78f78ab6-78cf-4abc-a650-d43d6552fb13",
   "metadata": {},
   "outputs": [],
   "source": []
  }
 ],
 "metadata": {
  "kernelspec": {
   "display_name": "tf2",
   "language": "python",
   "name": "tf2"
  },
  "language_info": {
   "codemirror_mode": {
    "name": "ipython",
    "version": 3
   },
   "file_extension": ".py",
   "mimetype": "text/x-python",
   "name": "python",
   "nbconvert_exporter": "python",
   "pygments_lexer": "ipython3",
   "version": "3.9.7"
  }
 },
 "nbformat": 4,
 "nbformat_minor": 5
}
