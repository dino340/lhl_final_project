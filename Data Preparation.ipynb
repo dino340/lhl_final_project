{
 "cells": [
  {
   "cell_type": "markdown",
   "id": "a466afc1-55a4-43ac-8e37-1f55f44730e0",
   "metadata": {},
   "source": [
    "Data for masked and incorrectly masked faces can be found at https://github.com/cabani/MaskedFace-Net\n",
    "\n",
    "Download and unzip files 'CMFD' and 'IMFD', if downloading split folders move files from 'CMFD1' into CMFD and 'IMFD1' into 'IMFD'. Using windows batch file 'Unsubfolderer' drag 'CMFD' onto the batch file to move all images from subfolders into 'CMFD' and do the same for 'IMFD'. Rename 'CMFD' to 'correct' and 'IMFD' to 'incorrect' create folder named 'data' and place both 'correct' and 'incorrect' folders within it.\n",
    "\n",
    "Data for unmasked faces can be found at https://www.kaggle.com/arnaud58/flickrfaceshq-dataset-ffhq\n",
    "\n",
    "Download 'archive.zip' and unzip, move all files into a subfolder named 'none' within the 'data' folder\n",
    "\n",
    "Data hierarchy should be as follows:\n",
    "\n",
    "    workingdir/\n",
    "\n",
    "    - data/\n",
    "    \n",
    "    -- correct/\n",
    "    \n",
    "    --- images of correctly worn facemasks\n",
    "    \n",
    "    -- incorrect/\n",
    "    \n",
    "    --- images of incorrectly worn facemasks\n",
    "    \n",
    "    -- none/\n",
    "    \n",
    "    --- images of faces without facemasks"
   ]
  },
  {
   "cell_type": "code",
   "execution_count": 11,
   "id": "91575dbb-8b30-4ff8-bbff-c768de8b3d36",
   "metadata": {},
   "outputs": [],
   "source": [
    "from os import listdir\n",
    "import splitfolders # Used to generate train test split"
   ]
  },
  {
   "cell_type": "code",
   "execution_count": 12,
   "id": "8bfcce19-5c52-42b4-aeb7-7ceb16279a86",
   "metadata": {},
   "outputs": [
    {
     "name": "stdout",
     "output_type": "stream",
     "text": [
      "The number of images with facemask worn properly: 67048\n",
      "The number of images with facemask worn incorrectly: 66734\n",
      "The number of images without facemask: 52001\n"
     ]
    }
   ],
   "source": [
    "print(\"The number of images with facemask worn properly:\",len(listdir('data/correct/')))\n",
    "print(\"The number of images with facemask worn incorrectly:\",len(listdir('data/incorrect/')))\n",
    "print(\"The number of images without facemask:\",len(listdir('data/none/')))"
   ]
  },
  {
   "cell_type": "code",
   "execution_count": 7,
   "id": "3c421228-4cbc-40df-8b1f-a4dc66ea8290",
   "metadata": {
    "tags": []
   },
   "outputs": [],
   "source": [
    "def data_summary(main_path):\n",
    "    '''\n",
    "    This function takes in the root path of data and prints the total number of samples as well\n",
    "    as the number of members of each class as well as their percentage of the total\n",
    "    '''\n",
    "        \n",
    "    yes_path = main_path+'correct'\n",
    "    no_path = main_path+'none'\n",
    "    inc_path = main_path+'incorrect'\n",
    "        \n",
    "    # number of files (images) that are in the the folder named 'correct' that represent (positive) examples\n",
    "    m_pos = len(listdir(yes_path))\n",
    "    # number of files (images) that are in the the folder named 'none' that represent (negative) examples\n",
    "    m_neg = len(listdir(no_path))\n",
    "    # number of files (images) that are in the the folder named 'incorrect' that represent (incorrect) examples\n",
    "    m_inc = len(listdir(inc_path))\n",
    "    \n",
    "    # number of all examples\n",
    "    m = (m_pos+m_neg+m_inc)\n",
    "    \n",
    "    pos_prec = (m_pos* 100.0)/ m\n",
    "    neg_prec = (m_neg* 100.0)/ m\n",
    "    inc_prec = (m_inc* 100.0)/ m\n",
    "    \n",
    "    print(f\"Number of examples: {m}\")\n",
    "    print(f\"Percentage of positive examples: {pos_prec}%, number of pos examples: {m_pos}\") \n",
    "    print(f\"Percentage of negative examples: {neg_prec}%, number of neg examples: {m_neg}\") \n",
    "    print(f\"Percentage of incorrect examples: {inc_prec}%, number of neg examples: {m_inc}\") "
   ]
  },
  {
   "cell_type": "code",
   "execution_count": 10,
   "id": "2c238e7b-f519-4469-9a9d-9777c54a66d9",
   "metadata": {},
   "outputs": [
    {
     "name": "stdout",
     "output_type": "stream",
     "text": [
      "Number of examples: 185783\n",
      "Percentage of positive examples: 36.08941614679492%, number of pos examples: 67048\n",
      "Percentage of negative examples: 27.99018209416362%, number of neg examples: 52001\n",
      "Percentage of incorrect examples: 35.92040175904146%, number of neg examples: 66734\n"
     ]
    }
   ],
   "source": [
    "data_path = 'data/' # set path for all unsplit data\n",
    "data_summary(data_path)"
   ]
  },
  {
   "cell_type": "code",
   "execution_count": 17,
   "id": "c142c198-284c-4d3b-9f96-8b535ad81d59",
   "metadata": {},
   "outputs": [
    {
     "name": "stderr",
     "output_type": "stream",
     "text": [
      "Copying files: 185783 files [1:55:51, 26.72 files/s]\n"
     ]
    }
   ],
   "source": [
    "splitfolders.ratio('data', output='split',seed=1337,ratio=(0.8,0,0.2))"
   ]
  },
  {
   "cell_type": "code",
   "execution_count": 9,
   "id": "336ed56c-293b-4d05-8373-9f04d32e496c",
   "metadata": {},
   "outputs": [],
   "source": [
    "train_path = 'split/train/' #set path for training set\n",
    "test_path = 'split/test/' #set path for testing set"
   ]
  },
  {
   "cell_type": "markdown",
   "id": "03801010-73ea-4b60-85bb-319f60a1fb93",
   "metadata": {},
   "source": [
    "## Summary of data in training set"
   ]
  },
  {
   "cell_type": "code",
   "execution_count": 5,
   "id": "3d2aaf94-6262-47d8-bac7-213784c3603c",
   "metadata": {},
   "outputs": [
    {
     "name": "stdout",
     "output_type": "stream",
     "text": [
      "Number of examples: 148625\n",
      "Percentage of positive examples: 36.08948696383516%, number of pos examples: 53638\n",
      "Percentage of negative examples: 27.989907485281748%, number of neg examples: 41600\n",
      "Percentage of incorrect examples: 35.920605550883096%, number of neg examples: 53387\n"
     ]
    }
   ],
   "source": [
    "data_summary(train_path)"
   ]
  },
  {
   "cell_type": "markdown",
   "id": "08f5ba04-2888-4cc1-94d9-f99576898c24",
   "metadata": {
    "tags": []
   },
   "source": [
    "## Summary of data in testing set"
   ]
  },
  {
   "cell_type": "code",
   "execution_count": 6,
   "id": "c21ed143-6afe-4d60-89a4-4127b3cc9c38",
   "metadata": {},
   "outputs": [
    {
     "name": "stdout",
     "output_type": "stream",
     "text": [
      "Number of examples: 37158\n",
      "Percentage of positive examples: 36.08913289197481%, number of pos examples: 13410\n",
      "Percentage of negative examples: 27.991280477958988%, number of neg examples: 10401\n",
      "Percentage of incorrect examples: 35.919586630066206%, number of neg examples: 13347\n"
     ]
    }
   ],
   "source": [
    "data_summary(test_path)"
   ]
  },
  {
   "cell_type": "code",
   "execution_count": null,
   "id": "b97281ee-bfc2-421b-abb8-526589e20cdd",
   "metadata": {},
   "outputs": [],
   "source": []
  }
 ],
 "metadata": {
  "kernelspec": {
   "display_name": "tf2",
   "language": "python",
   "name": "tf2"
  },
  "language_info": {
   "codemirror_mode": {
    "name": "ipython",
    "version": 3
   },
   "file_extension": ".py",
   "mimetype": "text/x-python",
   "name": "python",
   "nbconvert_exporter": "python",
   "pygments_lexer": "ipython3",
   "version": "3.9.7"
  }
 },
 "nbformat": 4,
 "nbformat_minor": 5
}
