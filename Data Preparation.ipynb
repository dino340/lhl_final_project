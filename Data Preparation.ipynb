{
 "cells": [
  {
   "cell_type": "markdown",
   "id": "a466afc1-55a4-43ac-8e37-1f55f44730e0",
   "metadata": {},
   "source": [
    "The data for this takes up a lot of space, please be advised you will need approximately 115 GB for all the data after doing the train/test split if the original data folder is retained.\n",
    "\n",
    "Data for masked and incorrectly masked faces can be found at https://github.com/cabani/MaskedFace-Net\n",
    "\n",
    "Download and unzip files 'CMFD' and 'IMFD', if downloading split folders move files from 'CMFD1' into CMFD and 'IMFD1' into 'IMFD'. Using windows batch file 'Unsubfolderer' drag 'CMFD' onto the batch file to move all images from subfolders into 'CMFD' and do the same for 'IMFD'. Rename 'CMFD' to 'correct' and 'IMFD' to 'incorrect' create folder named 'data' and place both 'correct' and 'incorrect' folders within it.\n",
    "\n",
    "Data for unmasked faces can be found at https://www.kaggle.com/arnaud58/flickrfaceshq-dataset-ffhq\n",
    "\n",
    "Download 'archive.zip' and unzip, move all files into a subfolder named 'none' within the 'data' folder\n",
    "\n",
    "Data hierarchy should be as follows:\n",
    "\n",
    "    workingdir/\n",
    "\n",
    "    - data/\n",
    "    \n",
    "    -- correct/\n",
    "    \n",
    "    --- images of correctly worn facemasks\n",
    "    \n",
    "    -- incorrect/\n",
    "    \n",
    "    --- images of incorrectly worn facemasks\n",
    "    \n",
    "    -- none/\n",
    "    \n",
    "    --- images of faces without facemasks"
   ]
  },
  {
   "cell_type": "code",
   "execution_count": 9,
   "id": "91575dbb-8b30-4ff8-bbff-c768de8b3d36",
   "metadata": {},
   "outputs": [],
   "source": [
    "from os import listdir # used to look into folders\n",
    "import splitfolders # used to generate train test split\n",
    "import matplotlib.pyplot as plt # used to generate charts\n",
    "import numpy as np # needed for pyplot"
   ]
  },
  {
   "cell_type": "code",
   "execution_count": 17,
   "id": "c142c198-284c-4d3b-9f96-8b535ad81d59",
   "metadata": {},
   "outputs": [
    {
     "name": "stderr",
     "output_type": "stream",
     "text": [
      "Copying files: 185783 files [1:55:51, 26.72 files/s]\n"
     ]
    }
   ],
   "source": [
    "splitfolders.ratio('data', output='split',seed=1337,ratio=(0.8,0,0.2)) # creates train/test split and creates folder for it"
   ]
  },
  {
   "cell_type": "code",
   "execution_count": 17,
   "id": "3c421228-4cbc-40df-8b1f-a4dc66ea8290",
   "metadata": {
    "tags": []
   },
   "outputs": [],
   "source": [
    "def data_summary(main_path):\n",
    "    '''\n",
    "    This function takes in the root path of data and prints the total number of samples as well\n",
    "    as the number of members of each class as well as their percentage of the total\n",
    "    '''\n",
    "        \n",
    "    yes_path = main_path+'correct'\n",
    "    inc_path = main_path+'incorrect'\n",
    "    no_path = main_path+'none'\n",
    "\n",
    "        \n",
    "    # number of files (images) that are in the the folder named 'correct' that represent (positive) examples\n",
    "    m_pos = len(listdir(yes_path))\n",
    "    # number of files (images) that are in the the folder named 'incorrect' that represent (incorrect) examples\n",
    "    m_inc = len(listdir(inc_path))\n",
    "    # number of files (images) that are in the the folder named 'none' that represent (negative) examples\n",
    "    m_neg = len(listdir(no_path))\n",
    "\n",
    "    \n",
    "    # number of all examples\n",
    "    m = (m_pos+m_neg+m_inc)\n",
    "    \n",
    "    pos_prec = round((m_pos* 100.0)/ m, 2)\n",
    "    inc_prec = round((m_inc* 100.0)/ m, 2)\n",
    "    neg_prec = round((m_neg* 100.0)/ m, 2)\n",
    "\n",
    "    \n",
    "    print(f\"Number of examples: {m}\")\n",
    "    print(f\"Percentage of positive examples: {pos_prec}%, number of pos examples: {m_pos}\") \n",
    "    print(f\"Percentage of incorrect examples: {inc_prec}%, number of neg examples: {m_inc}\")\n",
    "    print(f\"Percentage of negative examples: {neg_prec}%, number of neg examples: {m_neg}\") \n",
    "    \n",
    "    y = np.array([pos_prec, inc_prec, neg_prec])\n",
    "    labels = ['Correctly Worn', 'Incorrectly Worn', 'No Mask']\n",
    "    colors = ['green', 'yellow', 'red']\n",
    "    ax = plt.figure()\n",
    "    plt.pie(y, labels=labels, colors=colors)\n",
    "    ax.patch.set_facecolor('lightgrey') # set background of chart to light grey\n",
    "    plt.show()"
   ]
  },
  {
   "cell_type": "code",
   "execution_count": 18,
   "id": "2c238e7b-f519-4469-9a9d-9777c54a66d9",
   "metadata": {},
   "outputs": [
    {
     "name": "stdout",
     "output_type": "stream",
     "text": [
      "Number of examples: 185783\n",
      "Percentage of positive examples: 36.09%, number of pos examples: 67048\n",
      "Percentage of incorrect examples: 35.92%, number of neg examples: 66734\n",
      "Percentage of negative examples: 27.99%, number of neg examples: 52001\n"
     ]
    },
    {
     "data": {
      "image/png": "[encoded data removed]",
      "text/plain": [
       "<Figure size 432x288 with 1 Axes>"
      ]
     },
     "metadata": {},
     "output_type": "display_data"
    }
   ],
   "source": [
    "data_path = 'data/' # set path for all unsplit data\n",
    "data_summary(data_path)"
   ]
  },
  {
   "cell_type": "code",
   "execution_count": 19,
   "id": "336ed56c-293b-4d05-8373-9f04d32e496c",
   "metadata": {},
   "outputs": [],
   "source": [
    "train_path = 'split/train/' #set path for training set\n",
    "test_path = 'split/test/' #set path for testing set"
   ]
  },
  {
   "cell_type": "markdown",
   "id": "03801010-73ea-4b60-85bb-319f60a1fb93",
   "metadata": {},
   "source": [
    "## Summary of data in training set"
   ]
  },
  {
   "cell_type": "code",
   "execution_count": 20,
   "id": "3d2aaf94-6262-47d8-bac7-213784c3603c",
   "metadata": {},
   "outputs": [
    {
     "name": "stdout",
     "output_type": "stream",
     "text": [
      "Number of examples: 148625\n",
      "Percentage of positive examples: 36.09%, number of pos examples: 53638\n",
      "Percentage of incorrect examples: 35.92%, number of neg examples: 53387\n",
      "Percentage of negative examples: 27.99%, number of neg examples: 41600\n"
     ]
    },
    {
     "data": {
      "image/png": "[encoded data removed]",
      "text/plain": [
       "<Figure size 432x288 with 1 Axes>"
      ]
     },
     "metadata": {},
     "output_type": "display_data"
    }
   ],
   "source": [
    "data_summary(train_path)"
   ]
  },
  {
   "cell_type": "markdown",
   "id": "08f5ba04-2888-4cc1-94d9-f99576898c24",
   "metadata": {
    "tags": []
   },
   "source": [
    "## Summary of data in testing set"
   ]
  },
  {
   "cell_type": "code",
   "execution_count": 21,
   "id": "c21ed143-6afe-4d60-89a4-4127b3cc9c38",
   "metadata": {},
   "outputs": [
    {
     "name": "stdout",
     "output_type": "stream",
     "text": [
      "Number of examples: 37158\n",
      "Percentage of positive examples: 36.09%, number of pos examples: 13410\n",
      "Percentage of incorrect examples: 35.92%, number of neg examples: 13347\n",
      "Percentage of negative examples: 27.99%, number of neg examples: 10401\n"
     ]
    },
    {
     "data": {
      "image/png": "[encoded data removed]",
      "text/plain": [
       "<Figure size 432x288 with 1 Axes>"
      ]
     },
     "metadata": {},
     "output_type": "display_data"
    }
   ],
   "source": [
    "data_summary(test_path)"
   ]
  },
  {
   "cell_type": "code",
   "execution_count": null,
   "id": "264dca08-774d-4be6-ba8f-6fb45d419764",
   "metadata": {},
   "outputs": [],
   "source": []
  }
 ],
 "metadata": {
  "kernelspec": {
   "display_name": "tf2",
   "language": "python",
   "name": "tf2"
  },
  "language_info": {
   "codemirror_mode": {
    "name": "ipython",
    "version": 3
   },
   "file_extension": ".py",
   "mimetype": "text/x-python",
   "name": "python",
   "nbconvert_exporter": "python",
   "pygments_lexer": "ipython3",
   "version": "3.9.7"
  }
 },
 "nbformat": 4,
 "nbformat_minor": 5
}
