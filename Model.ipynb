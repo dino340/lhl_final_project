{
 "cells": [
  {
   "cell_type": "code",
   "execution_count": 2,
   "id": "57a08205-65b5-43e7-aa13-3a189a38783c",
   "metadata": {},
   "outputs": [],
   "source": [
    "import os\n",
    "import tensorflow as tf\n",
    "from tensorflow.keras.preprocessing.image import ImageDataGenerator\n",
    "from os import listdir\n",
    "from tensorflow.keras.layers import Conv2D, MaxPooling2D, Flatten, Dense\n",
    "from tensorflow.keras.models import Model, load_model\n",
    "from tensorflow.keras.callbacks import ModelCheckpoint\n",
    "import numpy as np\n",
    "import matplotlib.pyplot as plt\n",
    "import matplotlib.image  as mpimg"
   ]
  },
  {
   "cell_type": "code",
   "execution_count": 3,
   "id": "2df8d14e-a1f6-4bcd-923f-71d0d57216c1",
   "metadata": {},
   "outputs": [],
   "source": [
    "model = tf.keras.models.Sequential([\n",
    "    tf.keras.layers.Conv2D(100, (3,3), activation='relu', input_shape=(150, 150, 3)),\n",
    "    tf.keras.layers.MaxPooling2D(2,2),\n",
    "    \n",
    "    tf.keras.layers.Conv2D(100, (3,3), activation='relu'),\n",
    "    tf.keras.layers.MaxPooling2D(2,2),\n",
    "    \n",
    "    tf.keras.layers.Flatten(),\n",
    "    tf.keras.layers.Dropout(0.5),\n",
    "    tf.keras.layers.Dense(50, activation='relu'),\n",
    "    tf.keras.layers.Dense(3, activation='softmax')\n",
    "])\n",
    "model.compile(optimizer='adam', loss='categorical_crossentropy', metrics=['acc'])"
   ]
  },
  {
   "cell_type": "code",
   "execution_count": 9,
   "id": "c6d688a3-a803-4b7c-b654-35797e8fa3fe",
   "metadata": {},
   "outputs": [
    {
     "name": "stdout",
     "output_type": "stream",
     "text": [
      "Found 148625 images belonging to 3 classes.\n",
      "Found 37158 images belonging to 3 classes.\n"
     ]
    }
   ],
   "source": [
    "training_dir = 'split/train'\n",
    "\n",
    "train_datagen = ImageDataGenerator(rescale=1.0/255,\n",
    "                                  rotation_range = 40,\n",
    "                                  width_shift_range=0.2,\n",
    "                                  height_shift_range=0.2,\n",
    "                                  shear_range=0.2,\n",
    "                                  zoom_range=0.2,\n",
    "                                  horizontal_flip=True,\n",
    "                                  fill_mode='nearest')\n",
    "\n",
    "train_generator = train_datagen.flow_from_directory(training_dir,\n",
    "                                                   batch_size=50,\n",
    "                                                   target_size=(150,150))\n",
    "\n",
    "test_dir = 'split/test'\n",
    "\n",
    "test_datagen = ImageDataGenerator(rescale=1.0/255)\n",
    "\n",
    "test_generator = test_datagen.flow_from_directory(test_dir,\n",
    "                                                 batch_size=50,\n",
    "                                                 target_size=(150,150))\n",
    "\n",
    "checkpoint = ModelCheckpoint('model-{epoch:03d}.model',monitor='val_loss',verbose=0,save_best_only=True,mode='auto')"
   ]
  },
  {
   "cell_type": "code",
   "execution_count": null,
   "id": "8d5f67d6-fc2c-4220-8ae1-fbe3816a6dac",
   "metadata": {},
   "outputs": [
    {
     "name": "stdout",
     "output_type": "stream",
     "text": [
      "Epoch 1/30\n",
      "2973/2973 [==============================] - 7174s 2s/step - loss: 0.2025 - acc: 0.9208 - val_loss: 0.0785 - val_acc: 0.9710\n",
      "INFO:tensorflow:Assets written to: model-001.model\\assets\n",
      "Epoch 2/30\n",
      "2973/2973 [==============================] - 7086s 2s/step - loss: 0.1185 - acc: 0.9565 - val_loss: 0.0604 - val_acc: 0.9773\n",
      "INFO:tensorflow:Assets written to: model-002.model\\assets\n",
      "Epoch 3/30\n",
      "2973/2973 [==============================] - 6952s 2s/step - loss: 0.0892 - acc: 0.9689 - val_loss: 0.0597 - val_acc: 0.9798\n",
      "INFO:tensorflow:Assets written to: model-003.model\\assets\n",
      "Epoch 4/30\n",
      "2973/2973 [==============================] - 6949s 2s/step - loss: 0.0735 - acc: 0.9743 - val_loss: 0.1888 - val_acc: 0.9429\n",
      "Epoch 5/30\n",
      "2973/2973 [==============================] - 6952s 2s/step - loss: 0.0657 - acc: 0.9777 - val_loss: 0.0646 - val_acc: 0.9745\n",
      "Epoch 6/30\n",
      "2973/2973 [==============================] - 6985s 2s/step - loss: 0.0620 - acc: 0.9785 - val_loss: 0.1017 - val_acc: 0.9636\n",
      "Epoch 7/30\n",
      "2973/2973 [==============================] - 6934s 2s/step - loss: 0.0574 - acc: 0.9800 - val_loss: 0.0939 - val_acc: 0.9669\n",
      "Epoch 8/30\n",
      "2973/2973 [==============================] - 6887s 2s/step - loss: 0.0540 - acc: 0.9817 - val_loss: 0.0787 - val_acc: 0.9712\n",
      "Epoch 9/30\n",
      "2973/2973 [==============================] - 7153s 2s/step - loss: 0.0518 - acc: 0.9824 - val_loss: 0.0641 - val_acc: 0.9803\n",
      "Epoch 10/30\n",
      "2973/2973 [==============================] - 6934s 2s/step - loss: 0.0488 - acc: 0.9833 - val_loss: 0.0681 - val_acc: 0.9772\n",
      "Epoch 11/30\n",
      "2973/2973 [==============================] - 6972s 2s/step - loss: 0.0468 - acc: 0.9842 - val_loss: 0.0380 - val_acc: 0.9858\n",
      "INFO:tensorflow:Assets written to: model-011.model\\assets\n",
      "Epoch 12/30\n",
      "2973/2973 [==============================] - 7180s 2s/step - loss: 0.0466 - acc: 0.9843 - val_loss: 0.0607 - val_acc: 0.9780\n",
      "Epoch 13/30\n",
      "2973/2973 [==============================] - 6994s 2s/step - loss: 0.0446 - acc: 0.9854 - val_loss: 0.0404 - val_acc: 0.9847\n",
      "Epoch 14/30\n",
      "2973/2973 [==============================] - 6903s 2s/step - loss: 0.0455 - acc: 0.9851 - val_loss: 0.0537 - val_acc: 0.9811\n",
      "Epoch 15/30\n",
      "2973/2973 [==============================] - 6900s 2s/step - loss: 0.0438 - acc: 0.9855 - val_loss: 0.0442 - val_acc: 0.9861\n",
      "Epoch 16/30\n",
      "2973/2973 [==============================] - 6937s 2s/step - loss: 0.0405 - acc: 0.9865 - val_loss: 0.0745 - val_acc: 0.9770\n",
      "Epoch 17/30\n",
      "2973/2973 [==============================] - 6948s 2s/step - loss: 0.0400 - acc: 0.9871 - val_loss: 0.0523 - val_acc: 0.9831\n",
      "Epoch 18/30\n",
      "2973/2973 [==============================] - 6967s 2s/step - loss: 0.0416 - acc: 0.9866 - val_loss: 0.0299 - val_acc: 0.9892\n",
      "INFO:tensorflow:Assets written to: model-018.model\\assets\n",
      "Epoch 19/30\n",
      "2973/2973 [==============================] - 6934s 2s/step - loss: 0.0398 - acc: 0.9868 - val_loss: 0.0951 - val_acc: 0.9680\n",
      "Epoch 20/30\n",
      "2973/2973 [==============================] - 7014s 2s/step - loss: 0.0400 - acc: 0.9866 - val_loss: 0.0359 - val_acc: 0.9888\n",
      "Epoch 21/30\n",
      "2973/2973 [==============================] - 6997s 2s/step - loss: 0.0383 - acc: 0.9874 - val_loss: 0.0564 - val_acc: 0.9833\n",
      "Epoch 22/30\n",
      "2411/2973 [=======================>......] - ETA: 18:38 - loss: 0.0380 - acc: 0.9875"
     ]
    }
   ],
   "source": [
    "history = model.fit(train_generator,\n",
    "                             epochs=30,\n",
    "                             validation_data=test_generator,\n",
    "                             callbacks=[checkpoint])"
   ]
  },
  {
   "cell_type": "code",
   "execution_count": null,
   "id": "21d6b440-8d5b-4af9-a823-0b8e31dc4dd2",
   "metadata": {},
   "outputs": [],
   "source": []
  }
 ],
 "metadata": {
  "kernelspec": {
   "display_name": "tf2",
   "language": "python",
   "name": "tf2"
  },
  "language_info": {
   "codemirror_mode": {
    "name": "ipython",
    "version": 3
   },
   "file_extension": ".py",
   "mimetype": "text/x-python",
   "name": "python",
   "nbconvert_exporter": "python",
   "pygments_lexer": "ipython3",
   "version": "3.9.7"
  }
 },
 "nbformat": 4,
 "nbformat_minor": 5
}
